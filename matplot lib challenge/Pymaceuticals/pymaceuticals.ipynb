{
 "cells": [
  {
   "cell_type": "markdown",
   "metadata": {},
   "source": [
    "## Observations and Insights "
   ]
  },
  {
   "cell_type": "markdown",
   "metadata": {},
   "source": [
    "Of the drug regimens studied for the treatment of tumors Calmoulin and Ramicane were by far the most effective. These two drug regimens yielded the lowest mean, median, and final tumor volumes with comparatively small data spread as measured by variance, standard deviation, and standard error of the mean. Additionally, the animals that recieved these two treatmens appeared to survive the longest as they yieled the most amount of mice in the test groups after 45 timepoints. Additionally, Ramicane treatment resulted in a greater average reduction of tumor size with slightly less variance than Calmoulin treatment, but the margin between the efficacy of the two treatments was very small. Additionally there was a fairly strong correlation between mean tumor size and mouse weight, indicating that the heavier mice tended to have larger tumors than the lighter mice after treatment, although the starting tumor volume for all of the mice was the same (45mm^3) at the beginning of treatment."
   ]
  },
  {
   "cell_type": "code",
   "execution_count": 2,
   "metadata": {},
   "outputs": [
    {
     "data": {
      "text/html": [
       "<div>\n",
       "<style scoped>\n",
       "    .dataframe tbody tr th:only-of-type {\n",
       "        vertical-align: middle;\n",
       "    }\n",
       "\n",
       "    .dataframe tbody tr th {\n",
       "        vertical-align: top;\n",
       "    }\n",
       "\n",
       "    .dataframe thead th {\n",
       "        text-align: right;\n",
       "    }\n",
       "</style>\n",
       "<table border=\"1\" class=\"dataframe\">\n",
       "  <thead>\n",
       "    <tr style=\"text-align: right;\">\n",
       "      <th></th>\n",
       "      <th>Mouse ID</th>\n",
       "      <th>Drug Regimen</th>\n",
       "      <th>Sex</th>\n",
       "      <th>Age_months</th>\n",
       "      <th>Weight (g)</th>\n",
       "      <th>Timepoint</th>\n",
       "      <th>Tumor Volume (mm3)</th>\n",
       "      <th>Metastatic Sites</th>\n",
       "    </tr>\n",
       "  </thead>\n",
       "  <tbody>\n",
       "    <tr>\n",
       "      <th>0</th>\n",
       "      <td>k403</td>\n",
       "      <td>Ramicane</td>\n",
       "      <td>Male</td>\n",
       "      <td>21</td>\n",
       "      <td>16</td>\n",
       "      <td>0</td>\n",
       "      <td>45.000000</td>\n",
       "      <td>0</td>\n",
       "    </tr>\n",
       "    <tr>\n",
       "      <th>1</th>\n",
       "      <td>k403</td>\n",
       "      <td>Ramicane</td>\n",
       "      <td>Male</td>\n",
       "      <td>21</td>\n",
       "      <td>16</td>\n",
       "      <td>5</td>\n",
       "      <td>38.825898</td>\n",
       "      <td>0</td>\n",
       "    </tr>\n",
       "    <tr>\n",
       "      <th>2</th>\n",
       "      <td>k403</td>\n",
       "      <td>Ramicane</td>\n",
       "      <td>Male</td>\n",
       "      <td>21</td>\n",
       "      <td>16</td>\n",
       "      <td>10</td>\n",
       "      <td>35.014271</td>\n",
       "      <td>1</td>\n",
       "    </tr>\n",
       "    <tr>\n",
       "      <th>3</th>\n",
       "      <td>k403</td>\n",
       "      <td>Ramicane</td>\n",
       "      <td>Male</td>\n",
       "      <td>21</td>\n",
       "      <td>16</td>\n",
       "      <td>15</td>\n",
       "      <td>34.223992</td>\n",
       "      <td>1</td>\n",
       "    </tr>\n",
       "    <tr>\n",
       "      <th>4</th>\n",
       "      <td>k403</td>\n",
       "      <td>Ramicane</td>\n",
       "      <td>Male</td>\n",
       "      <td>21</td>\n",
       "      <td>16</td>\n",
       "      <td>20</td>\n",
       "      <td>32.997729</td>\n",
       "      <td>1</td>\n",
       "    </tr>\n",
       "  </tbody>\n",
       "</table>\n",
       "</div>"
      ],
      "text/plain": [
       "  Mouse ID Drug Regimen   Sex  Age_months  Weight (g)  Timepoint  \\\n",
       "0     k403     Ramicane  Male          21          16          0   \n",
       "1     k403     Ramicane  Male          21          16          5   \n",
       "2     k403     Ramicane  Male          21          16         10   \n",
       "3     k403     Ramicane  Male          21          16         15   \n",
       "4     k403     Ramicane  Male          21          16         20   \n",
       "\n",
       "   Tumor Volume (mm3)  Metastatic Sites  \n",
       "0           45.000000                 0  \n",
       "1           38.825898                 0  \n",
       "2           35.014271                 1  \n",
       "3           34.223992                 1  \n",
       "4           32.997729                 1  "
      ]
     },
     "execution_count": 2,
     "metadata": {},
     "output_type": "execute_result"
    }
   ],
   "source": [
    "# Dependencies and Setup\n",
    "import matplotlib.pyplot as plt\n",
    "import pandas as pd\n",
    "import numpy as np\n",
    "import scipy.stats as stats\n",
    "from scipy.stats import linregress\n",
    "\n",
    "# Study data files\n",
    "mouse_metadata_path = \"data/Mouse_metadata.csv\"\n",
    "study_results_path = \"data/Study_results.csv\"\n",
    "\n",
    "# Read the mouse data and the study results\n",
    "mouse_metadata = pd.read_csv(mouse_metadata_path)\n",
    "study_results = pd.read_csv(study_results_path)\n",
    "\n",
    "# Combine the data into a single dataset\n",
    "combined_data = mouse_metadata.merge(study_results, how='inner')\n",
    "combined_data.head()"
   ]
  },
  {
   "cell_type": "code",
   "execution_count": 3,
   "metadata": {},
   "outputs": [
    {
     "data": {
      "text/plain": [
       "249"
      ]
     },
     "execution_count": 3,
     "metadata": {},
     "output_type": "execute_result"
    }
   ],
   "source": [
    "# Checking the number of mice in the DataFrame.\n",
    "len(combined_data['Mouse ID'].unique())"
   ]
  },
  {
   "cell_type": "code",
   "execution_count": 4,
   "metadata": {},
   "outputs": [
    {
     "data": {
      "text/plain": [
       "array([908, 910, 912, 914, 916])"
      ]
     },
     "execution_count": 4,
     "metadata": {},
     "output_type": "execute_result"
    }
   ],
   "source": [
    "#get array of duplicated mice with multiple values for both ID and Timepoint\n",
    "dups_series = combined_data.duplicated(['Mouse ID','Timepoint'], keep = 'last')\n",
    "\n",
    "#get index values of duplicate mouse\n",
    "dups_series[dups_series].index.values"
   ]
  },
  {
   "cell_type": "code",
   "execution_count": 5,
   "metadata": {},
   "outputs": [
    {
     "data": {
      "text/html": [
       "<div>\n",
       "<style scoped>\n",
       "    .dataframe tbody tr th:only-of-type {\n",
       "        vertical-align: middle;\n",
       "    }\n",
       "\n",
       "    .dataframe tbody tr th {\n",
       "        vertical-align: top;\n",
       "    }\n",
       "\n",
       "    .dataframe thead th {\n",
       "        text-align: right;\n",
       "    }\n",
       "</style>\n",
       "<table border=\"1\" class=\"dataframe\">\n",
       "  <thead>\n",
       "    <tr style=\"text-align: right;\">\n",
       "      <th></th>\n",
       "      <th>Mouse ID</th>\n",
       "      <th>Drug Regimen</th>\n",
       "      <th>Sex</th>\n",
       "      <th>Age_months</th>\n",
       "      <th>Weight (g)</th>\n",
       "      <th>Timepoint</th>\n",
       "      <th>Tumor Volume (mm3)</th>\n",
       "      <th>Metastatic Sites</th>\n",
       "    </tr>\n",
       "  </thead>\n",
       "  <tbody>\n",
       "    <tr>\n",
       "      <th>908</th>\n",
       "      <td>g989</td>\n",
       "      <td>Propriva</td>\n",
       "      <td>Female</td>\n",
       "      <td>21</td>\n",
       "      <td>26</td>\n",
       "      <td>0</td>\n",
       "      <td>45.000000</td>\n",
       "      <td>0</td>\n",
       "    </tr>\n",
       "    <tr>\n",
       "      <th>909</th>\n",
       "      <td>g989</td>\n",
       "      <td>Propriva</td>\n",
       "      <td>Female</td>\n",
       "      <td>21</td>\n",
       "      <td>26</td>\n",
       "      <td>0</td>\n",
       "      <td>45.000000</td>\n",
       "      <td>0</td>\n",
       "    </tr>\n",
       "    <tr>\n",
       "      <th>910</th>\n",
       "      <td>g989</td>\n",
       "      <td>Propriva</td>\n",
       "      <td>Female</td>\n",
       "      <td>21</td>\n",
       "      <td>26</td>\n",
       "      <td>5</td>\n",
       "      <td>48.786801</td>\n",
       "      <td>0</td>\n",
       "    </tr>\n",
       "    <tr>\n",
       "      <th>911</th>\n",
       "      <td>g989</td>\n",
       "      <td>Propriva</td>\n",
       "      <td>Female</td>\n",
       "      <td>21</td>\n",
       "      <td>26</td>\n",
       "      <td>5</td>\n",
       "      <td>47.570392</td>\n",
       "      <td>0</td>\n",
       "    </tr>\n",
       "    <tr>\n",
       "      <th>912</th>\n",
       "      <td>g989</td>\n",
       "      <td>Propriva</td>\n",
       "      <td>Female</td>\n",
       "      <td>21</td>\n",
       "      <td>26</td>\n",
       "      <td>10</td>\n",
       "      <td>51.745156</td>\n",
       "      <td>0</td>\n",
       "    </tr>\n",
       "    <tr>\n",
       "      <th>913</th>\n",
       "      <td>g989</td>\n",
       "      <td>Propriva</td>\n",
       "      <td>Female</td>\n",
       "      <td>21</td>\n",
       "      <td>26</td>\n",
       "      <td>10</td>\n",
       "      <td>49.880528</td>\n",
       "      <td>0</td>\n",
       "    </tr>\n",
       "    <tr>\n",
       "      <th>914</th>\n",
       "      <td>g989</td>\n",
       "      <td>Propriva</td>\n",
       "      <td>Female</td>\n",
       "      <td>21</td>\n",
       "      <td>26</td>\n",
       "      <td>15</td>\n",
       "      <td>51.325852</td>\n",
       "      <td>1</td>\n",
       "    </tr>\n",
       "    <tr>\n",
       "      <th>915</th>\n",
       "      <td>g989</td>\n",
       "      <td>Propriva</td>\n",
       "      <td>Female</td>\n",
       "      <td>21</td>\n",
       "      <td>26</td>\n",
       "      <td>15</td>\n",
       "      <td>53.442020</td>\n",
       "      <td>0</td>\n",
       "    </tr>\n",
       "    <tr>\n",
       "      <th>916</th>\n",
       "      <td>g989</td>\n",
       "      <td>Propriva</td>\n",
       "      <td>Female</td>\n",
       "      <td>21</td>\n",
       "      <td>26</td>\n",
       "      <td>20</td>\n",
       "      <td>55.326122</td>\n",
       "      <td>1</td>\n",
       "    </tr>\n",
       "    <tr>\n",
       "      <th>917</th>\n",
       "      <td>g989</td>\n",
       "      <td>Propriva</td>\n",
       "      <td>Female</td>\n",
       "      <td>21</td>\n",
       "      <td>26</td>\n",
       "      <td>20</td>\n",
       "      <td>54.657650</td>\n",
       "      <td>1</td>\n",
       "    </tr>\n",
       "  </tbody>\n",
       "</table>\n",
       "</div>"
      ],
      "text/plain": [
       "    Mouse ID Drug Regimen     Sex  Age_months  Weight (g)  Timepoint  \\\n",
       "908     g989     Propriva  Female          21          26          0   \n",
       "909     g989     Propriva  Female          21          26          0   \n",
       "910     g989     Propriva  Female          21          26          5   \n",
       "911     g989     Propriva  Female          21          26          5   \n",
       "912     g989     Propriva  Female          21          26         10   \n",
       "913     g989     Propriva  Female          21          26         10   \n",
       "914     g989     Propriva  Female          21          26         15   \n",
       "915     g989     Propriva  Female          21          26         15   \n",
       "916     g989     Propriva  Female          21          26         20   \n",
       "917     g989     Propriva  Female          21          26         20   \n",
       "\n",
       "     Tumor Volume (mm3)  Metastatic Sites  \n",
       "908           45.000000                 0  \n",
       "909           45.000000                 0  \n",
       "910           48.786801                 0  \n",
       "911           47.570392                 0  \n",
       "912           51.745156                 0  \n",
       "913           49.880528                 0  \n",
       "914           51.325852                 1  \n",
       "915           53.442020                 0  \n",
       "916           55.326122                 1  \n",
       "917           54.657650                 1  "
      ]
     },
     "execution_count": 5,
     "metadata": {},
     "output_type": "execute_result"
    }
   ],
   "source": [
    "# Optional: Get all the data for the duplicate mouse ID. \n",
    "combined_data.iloc[908:918,:]"
   ]
  },
  {
   "cell_type": "code",
   "execution_count": 6,
   "metadata": {},
   "outputs": [],
   "source": [
    "#rename column becuase I cant figure out how to use this filter if there is a space in the column title at the moment\n",
    "combined_data.rename(columns= {'Mouse ID':\"ID\"}, inplace=True)\n",
    "\n",
    "#delete the duplicate mouse from the dataset\n",
    "combined_data = combined_data[combined_data.ID != 'g989']"
   ]
  },
  {
   "cell_type": "code",
   "execution_count": 7,
   "metadata": {},
   "outputs": [
    {
     "data": {
      "text/plain": [
       "248"
      ]
     },
     "execution_count": 7,
     "metadata": {},
     "output_type": "execute_result"
    }
   ],
   "source": [
    "# Checking the number of mice in the clean DataFrame.\n",
    "len(combined_data['ID'].unique())"
   ]
  },
  {
   "cell_type": "markdown",
   "metadata": {},
   "source": [
    "## Summary Statistics"
   ]
  },
  {
   "cell_type": "code",
   "execution_count": 8,
   "metadata": {},
   "outputs": [],
   "source": [
    "# Generate a summary statistics table of mean, median, variance, standard deviation, and SEM of the tumor volume for each regimen\n",
    "\n",
    "#gropby drug type and calculate summary statistics then convert series to data frame for merging\n",
    "drug_means = combined_data.groupby(by = 'Drug Regimen')[\"Tumor Volume (mm3)\"].mean().to_frame()\n",
    "drug_medians = combined_data.groupby(by = 'Drug Regimen')[\"Tumor Volume (mm3)\"].median().to_frame()\n",
    "drug_variance = combined_data.groupby(by = 'Drug Regimen')[\"Tumor Volume (mm3)\"].var().to_frame()\n",
    "drug_std = combined_data.groupby(by = 'Drug Regimen')[\"Tumor Volume (mm3)\"].std().to_frame()\n",
    "drug_sem = combined_data.groupby(by = 'Drug Regimen')[\"Tumor Volume (mm3)\"].sem().to_frame()\n",
    "\n",
    "#rename columns to appropriate column titles to merge\n",
    "drug_means.rename(columns = {\"Tumor Volume (mm3)\": \"Tumor Volume Means\"}, inplace=True)\n",
    "drug_medians.rename(columns = {\"Tumor Volume (mm3)\": \"Tumor Volume Medians\"}, inplace=True)\n",
    "drug_variance.rename(columns = {\"Tumor Volume (mm3)\": \"Tumor Volume Variance\"}, inplace=True)\n",
    "drug_std.rename(columns = {\"Tumor Volume (mm3)\": \"Tumor Volume Standard Deviation\"}, inplace=True)\n",
    "drug_sem.rename(columns = {\"Tumor Volume (mm3)\": \"Tumor Volume SEM\"}, inplace=True)"
   ]
  },
  {
   "cell_type": "code",
   "execution_count": 9,
   "metadata": {
    "scrolled": true
   },
   "outputs": [
    {
     "data": {
      "text/html": [
       "<div>\n",
       "<style scoped>\n",
       "    .dataframe tbody tr th:only-of-type {\n",
       "        vertical-align: middle;\n",
       "    }\n",
       "\n",
       "    .dataframe tbody tr th {\n",
       "        vertical-align: top;\n",
       "    }\n",
       "\n",
       "    .dataframe thead th {\n",
       "        text-align: right;\n",
       "    }\n",
       "</style>\n",
       "<table border=\"1\" class=\"dataframe\">\n",
       "  <thead>\n",
       "    <tr style=\"text-align: right;\">\n",
       "      <th></th>\n",
       "      <th>Tumor Volume Means</th>\n",
       "      <th>Tumor Volume Medians</th>\n",
       "      <th>Tumor Volume Variance</th>\n",
       "      <th>Tumor Volume Standard Deviation</th>\n",
       "      <th>Tumor Volume SEM</th>\n",
       "    </tr>\n",
       "    <tr>\n",
       "      <th>Drug Regimen</th>\n",
       "      <th></th>\n",
       "      <th></th>\n",
       "      <th></th>\n",
       "      <th></th>\n",
       "      <th></th>\n",
       "    </tr>\n",
       "  </thead>\n",
       "  <tbody>\n",
       "    <tr>\n",
       "      <th>Capomulin</th>\n",
       "      <td>40.675741</td>\n",
       "      <td>41.557809</td>\n",
       "      <td>24.947764</td>\n",
       "      <td>4.994774</td>\n",
       "      <td>0.329346</td>\n",
       "    </tr>\n",
       "    <tr>\n",
       "      <th>Ceftamin</th>\n",
       "      <td>52.591172</td>\n",
       "      <td>51.776157</td>\n",
       "      <td>39.290177</td>\n",
       "      <td>6.268188</td>\n",
       "      <td>0.469821</td>\n",
       "    </tr>\n",
       "    <tr>\n",
       "      <th>Infubinol</th>\n",
       "      <td>52.884795</td>\n",
       "      <td>51.820584</td>\n",
       "      <td>43.128684</td>\n",
       "      <td>6.567243</td>\n",
       "      <td>0.492236</td>\n",
       "    </tr>\n",
       "    <tr>\n",
       "      <th>Ketapril</th>\n",
       "      <td>55.235638</td>\n",
       "      <td>53.698743</td>\n",
       "      <td>68.553577</td>\n",
       "      <td>8.279709</td>\n",
       "      <td>0.603860</td>\n",
       "    </tr>\n",
       "    <tr>\n",
       "      <th>Naftisol</th>\n",
       "      <td>54.331565</td>\n",
       "      <td>52.509285</td>\n",
       "      <td>66.173479</td>\n",
       "      <td>8.134708</td>\n",
       "      <td>0.596466</td>\n",
       "    </tr>\n",
       "    <tr>\n",
       "      <th>Placebo</th>\n",
       "      <td>54.033581</td>\n",
       "      <td>52.288934</td>\n",
       "      <td>61.168083</td>\n",
       "      <td>7.821003</td>\n",
       "      <td>0.581331</td>\n",
       "    </tr>\n",
       "    <tr>\n",
       "      <th>Propriva</th>\n",
       "      <td>52.320930</td>\n",
       "      <td>50.446266</td>\n",
       "      <td>43.852013</td>\n",
       "      <td>6.622085</td>\n",
       "      <td>0.544332</td>\n",
       "    </tr>\n",
       "    <tr>\n",
       "      <th>Ramicane</th>\n",
       "      <td>40.216745</td>\n",
       "      <td>40.673236</td>\n",
       "      <td>23.486704</td>\n",
       "      <td>4.846308</td>\n",
       "      <td>0.320955</td>\n",
       "    </tr>\n",
       "    <tr>\n",
       "      <th>Stelasyn</th>\n",
       "      <td>54.233149</td>\n",
       "      <td>52.431737</td>\n",
       "      <td>59.450562</td>\n",
       "      <td>7.710419</td>\n",
       "      <td>0.573111</td>\n",
       "    </tr>\n",
       "    <tr>\n",
       "      <th>Zoniferol</th>\n",
       "      <td>53.236507</td>\n",
       "      <td>51.818479</td>\n",
       "      <td>48.533355</td>\n",
       "      <td>6.966589</td>\n",
       "      <td>0.516398</td>\n",
       "    </tr>\n",
       "  </tbody>\n",
       "</table>\n",
       "</div>"
      ],
      "text/plain": [
       "              Tumor Volume Means  Tumor Volume Medians  Tumor Volume Variance  \\\n",
       "Drug Regimen                                                                    \n",
       "Capomulin              40.675741             41.557809              24.947764   \n",
       "Ceftamin               52.591172             51.776157              39.290177   \n",
       "Infubinol              52.884795             51.820584              43.128684   \n",
       "Ketapril               55.235638             53.698743              68.553577   \n",
       "Naftisol               54.331565             52.509285              66.173479   \n",
       "Placebo                54.033581             52.288934              61.168083   \n",
       "Propriva               52.320930             50.446266              43.852013   \n",
       "Ramicane               40.216745             40.673236              23.486704   \n",
       "Stelasyn               54.233149             52.431737              59.450562   \n",
       "Zoniferol              53.236507             51.818479              48.533355   \n",
       "\n",
       "              Tumor Volume Standard Deviation  Tumor Volume SEM  \n",
       "Drug Regimen                                                     \n",
       "Capomulin                            4.994774          0.329346  \n",
       "Ceftamin                             6.268188          0.469821  \n",
       "Infubinol                            6.567243          0.492236  \n",
       "Ketapril                             8.279709          0.603860  \n",
       "Naftisol                             8.134708          0.596466  \n",
       "Placebo                              7.821003          0.581331  \n",
       "Propriva                             6.622085          0.544332  \n",
       "Ramicane                             4.846308          0.320955  \n",
       "Stelasyn                             7.710419          0.573111  \n",
       "Zoniferol                            6.966589          0.516398  "
      ]
     },
     "execution_count": 9,
     "metadata": {},
     "output_type": "execute_result"
    }
   ],
   "source": [
    "# Generate a summary statistics table of mean, median, variance, standard deviation, and SEM of the tumor volume for each regimen\n",
    "#merge series to dataframe\n",
    "regimen_frame = drug_means.merge(drug_medians, left_index = True, right_on = 'Drug Regimen')\n",
    "regimen_frame = regimen_frame.merge(drug_variance, left_index = True, right_on = 'Drug Regimen')\n",
    "regimen_frame = regimen_frame.merge(drug_std, left_index = True, right_on = 'Drug Regimen')\n",
    "regimen_frame = regimen_frame.merge(drug_sem, left_index = True, right_on = 'Drug Regimen')\n",
    "\n",
    "#display aggregate data\n",
    "regimen_frame\n"
   ]
  },
  {
   "cell_type": "markdown",
   "metadata": {},
   "source": [
    "## Bar Plots"
   ]
  },
  {
   "cell_type": "code",
   "execution_count": 21,
   "metadata": {},
   "outputs": [
    {
     "data": {
      "text/plain": [
       "<matplotlib.axes._subplots.AxesSubplot at 0x1a2715cf90>"
      ]
     },
     "execution_count": 21,
     "metadata": {},
     "output_type": "execute_result"
    },
    {
     "data": {
      "image/png": "[encoded data removed]",
      "text/plain": [
       "<Figure size 1080x720 with 1 Axes>"
      ]
     },
     "metadata": {
      "needs_background": "light"
     },
     "output_type": "display_data"
    }
   ],
   "source": [
    "#count total time point values per drug regimen, convert to DF, sort values. \n",
    "overtime = combined_data.groupby(by = ['Drug Regimen'])[\"Timepoint\"].count().to_frame().sort_values(by = ['Timepoint'])\n",
    "\n",
    "#Generate a bar plot showing the number of mice per time point for each treatment throughout the course of the study using pandas\n",
    "xlabel = 'Drug Regiment'\n",
    "\n",
    "overtime.plot(kind='bar', use_index = True,\n",
    "             color = ['lightskyblue'],  figsize=(15,10))"
   ]
  },
  {
   "cell_type": "code",
   "execution_count": 22,
   "metadata": {},
   "outputs": [],
   "source": [
    "# Generate a bar plot showing the number of mice per time point for each treatment throughout the course of the study using pyplot."
   ]
  },
  {
   "cell_type": "markdown",
   "metadata": {},
   "source": [
    "## Pie Plots"
   ]
  },
  {
   "cell_type": "code",
   "execution_count": 37,
   "metadata": {},
   "outputs": [],
   "source": [
    "# Generate a pie plot showing the distribution of female versus male mice using pandas\n",
    "pie_labels = combined_data[\"Sex\"].unique()\n",
    "\n",
    "# find gender counts\n",
    "gender_data = combined_data.groupby(['Sex']).count()\n",
    "\n",
    "# assign pie plot values\n",
    "gender_values = [958,925]\n",
    "\n",
    "#colors for plotting\n",
    "colors = ['red', 'lightskyblue']\n",
    "\n",
    "#distance of plot section break\n",
    "explode = (0.1, 0)\n",
    "\n",
    "# gender_data.plot(kind = 'pie', y = \"Timepoint\", explode=explode, labels = pie_labels, colors = colors, \n",
    "#                  autopct=\"%1.1f%%\", shadow=True, startangle=90)"
   ]
  },
  {
   "cell_type": "code",
   "execution_count": 38,
   "metadata": {},
   "outputs": [
    {
     "data": {
      "text/plain": [
       "([<matplotlib.patches.Wedge at 0x1a1b76ef10>,\n",
       "  <matplotlib.patches.Wedge at 0x1a1b775990>],\n",
       " [Text(-1.1995453372764304, -0.033030044177607666, 'Male'),\n",
       "  Text(1.099583225836728, 0.030277540496140714, 'Female')],\n",
       " [Text(-0.6997347800779178, -0.01926752577027114, '50.9%'),\n",
       "  Text(0.5997726686382152, 0.016515022088804024, '49.1%')])"
      ]
     },
     "execution_count": 38,
     "metadata": {},
     "output_type": "execute_result"
    },
    {
     "data": {
      "image/png": "[encoded data removed]",
      "text/plain": [
       "<Figure size 432x288 with 1 Axes>"
      ]
     },
     "metadata": {},
     "output_type": "display_data"
    }
   ],
   "source": [
    "#colors for plotting\n",
    "colors = ['red', 'lightskyblue']\n",
    "\n",
    "#distance of plot section break\n",
    "explode = (0.1, 0)\n",
    "\n",
    "#plot pie chart\n",
    "plt.pie(gender_values, explode=explode, labels=pie_labels, colors=colors,\n",
    "        autopct=\"%1.1f%%\", shadow=True, startangle=90)"
   ]
  },
  {
   "cell_type": "markdown",
   "metadata": {},
   "source": [
    "## Quartiles, Outliers and Boxplots"
   ]
  },
  {
   "cell_type": "code",
   "execution_count": 39,
   "metadata": {},
   "outputs": [],
   "source": [
    "# Calculate the final tumor volume of each mouse across four of the most promising treatment regimens.\n",
    "# Calculate the IQR and quantitatively determine if there are any potential outliers. \n",
    "\n",
    "# find the final volumes of tumors in all mice tested\n",
    "final_volumes = combined_data.drop_duplicates(subset='ID', keep=\"last\")\n",
    "\n",
    "# drop mice with only one timepoint at timepoint = 0\n",
    "final_volumes = final_volumes[final_volumes.Timepoint != 0]\n",
    "\n",
    "# create empty lists to collect values\n",
    "cap_values = []\n",
    "ram_values = []\n",
    "cet_values = []\n",
    "inf_values = []\n",
    "\n",
    "# iterate through data and collect maximum tumor volume list for each treatment, typecast as float for calculation\n",
    "for i in final_volumes.itertuples():\n",
    "    if i[2]=='Capomulin':\n",
    "        cap_values.append(float(i[7]))\n",
    "\n",
    "for i in final_volumes.itertuples():\n",
    "    if i[2]=='Ramicane':\n",
    "        ram_values.append(float(i[7]))       \n",
    "\n",
    "for i in final_volumes.itertuples():\n",
    "    if i[2]=='Ceftamin':\n",
    "        cet_values.append(float(i[7]))  \n",
    "\n",
    "for i in final_volumes.itertuples():\n",
    "    if i[2]=='Infubinol':\n",
    "        inf_values.append(float(i[7]))  \n",
    "        \n",
    "# get IQR for each drug regiment in question\n",
    "cap_iqr = stats.iqr(cap_values, interpolation = 'midpoint')\n",
    "ram_iqr = stats.iqr(ram_values, interpolation = 'midpoint')\n",
    "cet_iqr = stats.iqr(cet_values, interpolation = 'midpoint')\n",
    "inf_iqr = stats.iqr(inf_values, interpolation = 'midpoint')\n",
    "\n",
    "# transform list to series for calculation\n",
    "cap_values = pd.Series(cap_values)\n",
    "ram_values = pd.Series(ram_values)\n",
    "cet_values = pd.Series(cet_values)\n",
    "inf_values = pd.Series(inf_values)\n",
    "\n",
    "#calculate capomulin IQR and outlier boundaries\n",
    "cap_quarts = cap_values.quantile([.25, .5, .75])\n",
    "cap_low = cap_quarts[0.25]\n",
    "cap_high = cap_quarts[0.75]\n",
    "cap_upper = cap_high + (1.5 * cap_iqr)\n",
    "cap_lower = cap_low - (1.5 * cap_iqr)\n",
    "\n",
    "#calculate Ramicane IQR and outlier boundaries\n",
    "ram_quarts = ram_values.quantile([.25, .5, .75])\n",
    "ram_low = ram_quarts[0.25]\n",
    "ram_high = ram_quarts[0.75]\n",
    "ram_upper = ram_high + (1.5 * ram_iqr)\n",
    "ram_lower = ram_low - (1.5 * ram_iqr)\n",
    "\n",
    "#calculate Ceftamin IQR and outlier boundaries\n",
    "cet_quarts = cet_values.quantile([.25, .5, .75])\n",
    "cet_low = cet_quarts[0.25]\n",
    "cet_high = cet_quarts[0.75]\n",
    "cet_upper = cet_high + (1.5 * cet_iqr)\n",
    "cet_lower = cet_low - (1.5 * cet_iqr)\n",
    "\n",
    "#calculate Infubinol IQR and outlier boundaries\n",
    "inf_quarts = inf_values.quantile([.25, .5, .75])\n",
    "inf_low = inf_quarts[0.25]\n",
    "inf_high = inf_quarts[0.75]\n",
    "inf_upper = inf_high + (1.5 * inf_iqr)\n",
    "inf_lower = inf_low - (1.5 * inf_iqr)"
   ]
  },
  {
   "cell_type": "code",
   "execution_count": 40,
   "metadata": {},
   "outputs": [
    {
     "data": {
      "image/png": "[encoded data removed]",
      "text/plain": [
       "<Figure size 720x360 with 1 Axes>"
      ]
     },
     "metadata": {
      "needs_background": "light"
     },
     "output_type": "display_data"
    }
   ],
   "source": [
    "# Generate a box plot of the final tumor volume of each mouse across four regimens of interest\n",
    "box_data = [cap_values, ram_values, cet_values, inf_values]\n",
    "\n",
    "# define fig atributes\n",
    "fig = plt.figure(1, figsize=(10, 5))\n",
    "\n",
    "# variable for subplot\n",
    "ax1 = fig.add_subplot(111)\n",
    "\n",
    "# create handle for boxplot\n",
    "box = ax1.boxplot(box_data, patch_artist=True)\n",
    "\n",
    "# format and plot boxplot\n",
    "ax1.set_title('Final Tumor Volume for Each Drug Regimen')\n",
    "ax1.set_ylabel('Final Tumor Volume')\n",
    "ax1.boxplot(box_data)\n",
    "ax1.set_xticklabels(['Calmoulin', 'Ramicane', 'Ceftamin', 'Infubinol'])\n",
    "for flier in box['fliers']:\n",
    "    flier.set(marker='x', color='#1b9e77', alpha=1.0)\n",
    "\n",
    "plt.show()"
   ]
  },
  {
   "cell_type": "markdown",
   "metadata": {},
   "source": [
    "## Line and Scatter Plots"
   ]
  },
  {
   "cell_type": "code",
   "execution_count": 43,
   "metadata": {},
   "outputs": [
    {
     "data": {
      "image/png": "[encoded data removed]",
      "text/plain": [
       "<Figure size 432x288 with 1 Axes>"
      ]
     },
     "metadata": {
      "needs_background": "light"
     },
     "output_type": "display_data"
    }
   ],
   "source": [
    "# Generate a line plot of time point versus tumor volume for a mouse treated with Capomulin\n",
    "combined_data.rename(columns = {'Drug Regimen':'DR'}, inplace=True)\n",
    "\n",
    "#return DF with only capomulin data\n",
    "cap_data = combined_data[combined_data.DR == 'Capomulin']\n",
    "\n",
    "#return DF of only one mouse treated with capomulin\n",
    "mouse_dat = cap_data[cap_data.ID == 'b128']\n",
    "\n",
    "#covnert columns to list for plotting\n",
    "x_axis = mouse_dat['Timepoint'].tolist()\n",
    "y_axis = mouse_dat['Tumor Volume (mm3)'].tolist()\n",
    "\n",
    "#plot and format the linegraph\n",
    "plt.plot(x_axis, y_axis, marker=\"o\", color=\"Blue\", linewidth=1, label=\"Tumor Volume\")\n",
    "plt.xlabel('Timepoints')\n",
    "plt.ylabel('Average Tumor Volume')\n",
    "plt.title('Change in Tumor Volume Over Time')\n",
    "plt.show()"
   ]
  },
  {
   "cell_type": "code",
   "execution_count": 44,
   "metadata": {},
   "outputs": [
    {
     "data": {
      "image/png": "[encoded data removed]",
      "text/plain": [
       "<Figure size 432x288 with 1 Axes>"
      ]
     },
     "metadata": {
      "needs_background": "light"
     },
     "output_type": "display_data"
    }
   ],
   "source": [
    "# Generate a scatter plot of mouse weight versus average tumor volume for the Capomulin regimen\n",
    "\n",
    "# Group Capomulin DF by ID and caluclate average tumor volume and weight \n",
    "cap_avgvol = cap_data.groupby(['ID'])['Tumor Volume (mm3)'].mean().to_frame()\n",
    "cap_weights = cap_data.groupby(['ID'])['Weight (g)'].mean().to_frame()\n",
    "\n",
    "# Merge Pandas series to DF, verify Data Matches\n",
    "scatter_df = cap_avgvol.merge(cap_weights, left_index=True, right_index=True)\n",
    "\n",
    "# Convert columns to lists for graphing\n",
    "vol_list = scatter_df['Tumor Volume (mm3)'].tolist()\n",
    "weight_list  = scatter_df['Weight (g)'].tolist()\n",
    "\n",
    "# Plot\n",
    "plt.scatter(weight_list, vol_list, marker=\"o\", facecolors=\"red\", edgecolors=\"black\",\n",
    "            s=weight_list, alpha=.75)\n",
    "plt.xlabel('Weight (g)')\n",
    "plt.ylabel('Average Tumor Volume ')\n",
    "plt.title('Capomulin Weight vs Average Tumor Volume')\n",
    "plt.show()"
   ]
  },
  {
   "cell_type": "markdown",
   "metadata": {},
   "source": [
    "## Correlation and Regression"
   ]
  },
  {
   "cell_type": "code",
   "execution_count": 46,
   "metadata": {},
   "outputs": [
    {
     "name": "stdout",
     "output_type": "stream",
     "text": [
      "The correlation between weight and average tumor volume for mice treated with Capomulin is 0.84\n"
     ]
    },
    {
     "data": {
      "image/png": "[encoded data removed]",
      "text/plain": [
       "<Figure size 432x288 with 1 Axes>"
      ]
     },
     "metadata": {
      "needs_background": "light"
     },
     "output_type": "display_data"
    }
   ],
   "source": [
    "# Calculate the correlation coefficient and linear regression model \n",
    "# for mouse weight and average tumor volume for the Capomulin regimen\n",
    "\n",
    "#calculate correlation coefficient\n",
    "correlation = stats.pearsonr(weight_list,vol_list)\n",
    "\n",
    "#print the correlation coefficient\n",
    "print(f\"The correlation coefficient between weight and average tumor volume for mice treated with Capomulin is {round(correlation[0],2)}\")\n",
    "\n",
    "#convert data list to series type for calculation.\n",
    "weight_series = pd.Series(weight_list)\n",
    "\n",
    "#calulate linear regression values and fit\n",
    "(slope, intercept, rvalue, pvalue, stderr) = linregress(weight_list, vol_list)\n",
    "\n",
    "#calculate linear regression line (Y) values for plotting\n",
    "regress_values = weight_series * slope + intercept\n",
    "\n",
    "#plot linear regression line on scatter plot \n",
    "plt.plot(weight_list,regress_values,\"b-\")\n",
    "plt.scatter(weight_series, vol_list, marker=\"o\", facecolors=\"red\", edgecolors=\"black\",\n",
    "            s=weight_list, alpha=.75)\n",
    "plt.xlabel('Weight (g)')\n",
    "plt.ylabel('Average Tumor Volume ')\n",
    "plt.title('Capomulin Weight vs Average Tumor Volume')\n",
    "plt.show()"
   ]
  },
  {
   "cell_type": "code",
   "execution_count": null,
   "metadata": {},
   "outputs": [],
   "source": []
  },
  {
   "cell_type": "code",
   "execution_count": null,
   "metadata": {},
   "outputs": [],
   "source": []
  }
 ],
 "metadata": {
  "anaconda-cloud": {},
  "kernelspec": {
   "display_name": "Python 3",
   "language": "python",
   "name": "python3"
  },
  "language_info": {
   "codemirror_mode": {
    "name": "ipython",
    "version": 3
   },
   "file_extension": ".py",
   "mimetype": "text/x-python",
   "name": "python",
   "nbconvert_exporter": "python",
   "pygments_lexer": "ipython3",
   "version": "3.7.7"
  }
 },
 "nbformat": 4,
 "nbformat_minor": 4
}
